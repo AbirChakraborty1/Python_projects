{
 "cells": [
  {
   "cell_type": "markdown",
   "id": "60d5be75",
   "metadata": {},
   "source": [
    "# Consumer Complaints Resolution"
   ]
  },
  {
   "cell_type": "markdown",
   "id": "553ad296",
   "metadata": {},
   "source": [
    "Consumer complaint resolution is important to any business. In this particular case we have been\n",
    "given details consumer complaints along with whether consumer disputed with the conclusion. If\n",
    "we are able to predict this , consumer likely disputed can be given more attention as to how the\n",
    "complaints are handelled as well as how to convincingly convey the final conlusions to them.\n",
    "Your target here is to build prediction model for column \"Consumer disputed\""
   ]
  },
  {
   "cell_type": "markdown",
   "id": "2dded0d9",
   "metadata": {},
   "source": [
    "### The target here is to build prediction model for column \"Consumer disputed\""
   ]
  },
  {
   "cell_type": "code",
   "execution_count": 1,
   "id": "aef66ce7",
   "metadata": {},
   "outputs": [
    {
     "data": {
      "text/html": [
       "<div>\n",
       "<style scoped>\n",
       "    .dataframe tbody tr th:only-of-type {\n",
       "        vertical-align: middle;\n",
       "    }\n",
       "\n",
       "    .dataframe tbody tr th {\n",
       "        vertical-align: top;\n",
       "    }\n",
       "\n",
       "    .dataframe thead th {\n",
       "        text-align: right;\n",
       "    }\n",
       "</style>\n",
       "<table border=\"1\" class=\"dataframe\">\n",
       "  <thead>\n",
       "    <tr style=\"text-align: right;\">\n",
       "      <th></th>\n",
       "      <th>Date received</th>\n",
       "      <th>Product</th>\n",
       "      <th>Sub-product</th>\n",
       "      <th>Issue</th>\n",
       "      <th>Sub-issue</th>\n",
       "      <th>Consumer complaint narrative</th>\n",
       "      <th>Company public response</th>\n",
       "      <th>Company</th>\n",
       "      <th>State</th>\n",
       "      <th>ZIP code</th>\n",
       "      <th>Tags</th>\n",
       "      <th>Consumer consent provided?</th>\n",
       "      <th>Submitted via</th>\n",
       "      <th>Date sent to company</th>\n",
       "      <th>Company response to consumer</th>\n",
       "      <th>Timely response?</th>\n",
       "      <th>Consumer disputed?</th>\n",
       "      <th>Complaint ID</th>\n",
       "    </tr>\n",
       "  </thead>\n",
       "  <tbody>\n",
       "    <tr>\n",
       "      <th>0</th>\n",
       "      <td>2014-05-15</td>\n",
       "      <td>Credit card</td>\n",
       "      <td>NaN</td>\n",
       "      <td>Billing statement</td>\n",
       "      <td>NaN</td>\n",
       "      <td>NaN</td>\n",
       "      <td>NaN</td>\n",
       "      <td>Wells Fargo &amp; Company</td>\n",
       "      <td>MI</td>\n",
       "      <td>48342</td>\n",
       "      <td>Older American</td>\n",
       "      <td>NaN</td>\n",
       "      <td>Web</td>\n",
       "      <td>2014-05-16</td>\n",
       "      <td>Closed with explanation</td>\n",
       "      <td>Yes</td>\n",
       "      <td>No</td>\n",
       "      <td>856103</td>\n",
       "    </tr>\n",
       "    <tr>\n",
       "      <th>1</th>\n",
       "      <td>2014-09-18</td>\n",
       "      <td>Bank account or service</td>\n",
       "      <td>(CD) Certificate of deposit</td>\n",
       "      <td>Making/receiving payments, sending money</td>\n",
       "      <td>NaN</td>\n",
       "      <td>NaN</td>\n",
       "      <td>NaN</td>\n",
       "      <td>Santander Bank US</td>\n",
       "      <td>PA</td>\n",
       "      <td>18042</td>\n",
       "      <td>NaN</td>\n",
       "      <td>NaN</td>\n",
       "      <td>Referral</td>\n",
       "      <td>2014-09-24</td>\n",
       "      <td>Closed</td>\n",
       "      <td>Yes</td>\n",
       "      <td>No</td>\n",
       "      <td>1034666</td>\n",
       "    </tr>\n",
       "    <tr>\n",
       "      <th>2</th>\n",
       "      <td>2014-03-13</td>\n",
       "      <td>Credit reporting</td>\n",
       "      <td>NaN</td>\n",
       "      <td>Incorrect information on credit report</td>\n",
       "      <td>Account status</td>\n",
       "      <td>NaN</td>\n",
       "      <td>NaN</td>\n",
       "      <td>Equifax</td>\n",
       "      <td>CA</td>\n",
       "      <td>92427</td>\n",
       "      <td>NaN</td>\n",
       "      <td>NaN</td>\n",
       "      <td>Referral</td>\n",
       "      <td>2014-04-03</td>\n",
       "      <td>Closed with non-monetary relief</td>\n",
       "      <td>Yes</td>\n",
       "      <td>No</td>\n",
       "      <td>756363</td>\n",
       "    </tr>\n",
       "    <tr>\n",
       "      <th>3</th>\n",
       "      <td>2015-07-17</td>\n",
       "      <td>Credit card</td>\n",
       "      <td>NaN</td>\n",
       "      <td>Billing statement</td>\n",
       "      <td>NaN</td>\n",
       "      <td>My credit card statement from US Bank, XXXX. X...</td>\n",
       "      <td>Company chooses not to provide a public response</td>\n",
       "      <td>U.S. Bancorp</td>\n",
       "      <td>GA</td>\n",
       "      <td>305XX</td>\n",
       "      <td>Older American</td>\n",
       "      <td>Consent provided</td>\n",
       "      <td>Web</td>\n",
       "      <td>2015-07-17</td>\n",
       "      <td>Closed with monetary relief</td>\n",
       "      <td>Yes</td>\n",
       "      <td>No</td>\n",
       "      <td>1474177</td>\n",
       "    </tr>\n",
       "    <tr>\n",
       "      <th>4</th>\n",
       "      <td>2014-11-20</td>\n",
       "      <td>Credit card</td>\n",
       "      <td>NaN</td>\n",
       "      <td>Transaction issue</td>\n",
       "      <td>NaN</td>\n",
       "      <td>NaN</td>\n",
       "      <td>NaN</td>\n",
       "      <td>Bank of America</td>\n",
       "      <td>MA</td>\n",
       "      <td>02127</td>\n",
       "      <td>NaN</td>\n",
       "      <td>NaN</td>\n",
       "      <td>Web</td>\n",
       "      <td>2014-11-28</td>\n",
       "      <td>Closed with explanation</td>\n",
       "      <td>Yes</td>\n",
       "      <td>No</td>\n",
       "      <td>1132572</td>\n",
       "    </tr>\n",
       "  </tbody>\n",
       "</table>\n",
       "</div>"
      ],
      "text/plain": [
       "  Date received                  Product                  Sub-product  \\\n",
       "0    2014-05-15              Credit card                          NaN   \n",
       "1    2014-09-18  Bank account or service  (CD) Certificate of deposit   \n",
       "2    2014-03-13         Credit reporting                          NaN   \n",
       "3    2015-07-17              Credit card                          NaN   \n",
       "4    2014-11-20              Credit card                          NaN   \n",
       "\n",
       "                                      Issue       Sub-issue  \\\n",
       "0                         Billing statement             NaN   \n",
       "1  Making/receiving payments, sending money             NaN   \n",
       "2    Incorrect information on credit report  Account status   \n",
       "3                         Billing statement             NaN   \n",
       "4                         Transaction issue             NaN   \n",
       "\n",
       "                        Consumer complaint narrative  \\\n",
       "0                                                NaN   \n",
       "1                                                NaN   \n",
       "2                                                NaN   \n",
       "3  My credit card statement from US Bank, XXXX. X...   \n",
       "4                                                NaN   \n",
       "\n",
       "                            Company public response                Company  \\\n",
       "0                                               NaN  Wells Fargo & Company   \n",
       "1                                               NaN      Santander Bank US   \n",
       "2                                               NaN                Equifax   \n",
       "3  Company chooses not to provide a public response           U.S. Bancorp   \n",
       "4                                               NaN        Bank of America   \n",
       "\n",
       "  State ZIP code            Tags Consumer consent provided? Submitted via  \\\n",
       "0    MI    48342  Older American                        NaN           Web   \n",
       "1    PA    18042             NaN                        NaN      Referral   \n",
       "2    CA    92427             NaN                        NaN      Referral   \n",
       "3    GA    305XX  Older American           Consent provided           Web   \n",
       "4    MA    02127             NaN                        NaN           Web   \n",
       "\n",
       "  Date sent to company     Company response to consumer Timely response?  \\\n",
       "0           2014-05-16          Closed with explanation              Yes   \n",
       "1           2014-09-24                           Closed              Yes   \n",
       "2           2014-04-03  Closed with non-monetary relief              Yes   \n",
       "3           2015-07-17      Closed with monetary relief              Yes   \n",
       "4           2014-11-28          Closed with explanation              Yes   \n",
       "\n",
       "  Consumer disputed?  Complaint ID  \n",
       "0                 No        856103  \n",
       "1                 No       1034666  \n",
       "2                 No        756363  \n",
       "3                 No       1474177  \n",
       "4                 No       1132572  "
      ]
     },
     "execution_count": 1,
     "metadata": {},
     "output_type": "execute_result"
    }
   ],
   "source": [
    "import pandas as pd\n",
    "import numpy as np\n",
    "import matplotlib.pyplot as plt\n",
    "import seaborn as sns\n",
    "\n",
    "data = pd.read_csv(\"C:\\\\Users\\\\chakr\\\\Desktop\\\\Project data\\\\P1 Data\\\\Consumer_Complaints_train.csv\")\n",
    "\n",
    "data.head()"
   ]
  },
  {
   "cell_type": "code",
   "execution_count": 2,
   "id": "e4d308d2",
   "metadata": {},
   "outputs": [
    {
     "name": "stdout",
     "output_type": "stream",
     "text": [
      "(478421, 18)\n",
      "<class 'pandas.core.frame.DataFrame'>\n",
      "RangeIndex: 478421 entries, 0 to 478420\n",
      "Data columns (total 18 columns):\n",
      " #   Column                        Non-Null Count   Dtype \n",
      "---  ------                        --------------   ----- \n",
      " 0   Date received                 478421 non-null  object\n",
      " 1   Product                       478421 non-null  object\n",
      " 2   Sub-product                   339948 non-null  object\n",
      " 3   Issue                         478421 non-null  object\n",
      " 4   Sub-issue                     185796 non-null  object\n",
      " 5   Consumer complaint narrative  75094 non-null   object\n",
      " 6   Company public response       90392 non-null   object\n",
      " 7   Company                       478421 non-null  object\n",
      " 8   State                         474582 non-null  object\n",
      " 9   ZIP code                      474573 non-null  object\n",
      " 10  Tags                          67206 non-null   object\n",
      " 11  Consumer consent provided?    135487 non-null  object\n",
      " 12  Submitted via                 478421 non-null  object\n",
      " 13  Date sent to company          478421 non-null  object\n",
      " 14  Company response to consumer  478421 non-null  object\n",
      " 15  Timely response?              478421 non-null  object\n",
      " 16  Consumer disputed?            478421 non-null  object\n",
      " 17  Complaint ID                  478421 non-null  int64 \n",
      "dtypes: int64(1), object(17)\n",
      "memory usage: 65.7+ MB\n"
     ]
    }
   ],
   "source": [
    "# Explore the data type and Null values\n",
    "print(data.shape)\n",
    "data.info()"
   ]
  },
  {
   "cell_type": "code",
   "execution_count": 3,
   "id": "6271e044",
   "metadata": {},
   "outputs": [
    {
     "data": {
      "text/plain": [
       "(478421, 17)"
      ]
     },
     "execution_count": 3,
     "metadata": {},
     "output_type": "execute_result"
    }
   ],
   "source": [
    "data = data.drop('Complaint ID',axis=1)\n",
    "data.shape"
   ]
  },
  {
   "cell_type": "code",
   "execution_count": 4,
   "id": "b9214b09",
   "metadata": {},
   "outputs": [
    {
     "data": {
      "text/plain": [
       "No     376990\n",
       "Yes    101431\n",
       "Name: Consumer disputed?, dtype: int64"
      ]
     },
     "execution_count": 4,
     "metadata": {},
     "output_type": "execute_result"
    }
   ],
   "source": [
    "data['Consumer disputed?'].value_counts()"
   ]
  },
  {
   "cell_type": "code",
   "execution_count": 5,
   "id": "8d426a72",
   "metadata": {},
   "outputs": [
    {
     "data": {
      "text/plain": [
       "0    376990\n",
       "1    101431\n",
       "Name: Consumer disputed?, dtype: int64"
      ]
     },
     "execution_count": 5,
     "metadata": {},
     "output_type": "execute_result"
    }
   ],
   "source": [
    "data['Consumer disputed?'] = np.where(data['Consumer disputed?']== 'Yes', 1, 0)\n",
    "data['Consumer disputed?'].value_counts()"
   ]
  },
  {
   "cell_type": "code",
   "execution_count": 6,
   "id": "2b3293ff",
   "metadata": {},
   "outputs": [],
   "source": [
    "column_list = [a for a in data]"
   ]
  },
  {
   "cell_type": "code",
   "execution_count": 7,
   "id": "a404b8e5",
   "metadata": {},
   "outputs": [
    {
     "name": "stdout",
     "output_type": "stream",
     "text": [
      "Date received : 1759 : 0\n",
      "Product : 12 : 0\n",
      "Sub-product : 47 : 138473\n",
      "Issue : 95 : 0\n",
      "Sub-issue : 68 : 292625\n",
      "Consumer complaint narrative : 74019 : 403327\n",
      "Company public response : 10 : 388029\n",
      "Company : 3276 : 0\n",
      "State : 62 : 3839\n",
      "ZIP code : 25962 : 3848\n",
      "Tags : 3 : 411215\n",
      "Consumer consent provided? : 4 : 342934\n",
      "Submitted via : 6 : 0\n",
      "Date sent to company : 1706 : 0\n",
      "Company response to consumer : 7 : 0\n",
      "Timely response? : 2 : 0\n"
     ]
    }
   ],
   "source": [
    "# Column Name , Unique Value , Count of Nulls\n",
    "\n",
    "for col in data.select_dtypes(['object']).columns:\n",
    "    print(col,':',data[col].nunique(),':',data[col].isna().sum())"
   ]
  },
  {
   "cell_type": "code",
   "execution_count": 8,
   "id": "7e18c26e",
   "metadata": {},
   "outputs": [],
   "source": [
    "# Date received - Explore Yearwise and others\n",
    "# Product - Catagorical\n",
    "# Sub-product - Catagorical\n",
    "# Issue - Catagorical\n",
    "# Sub-issue - Catagorical\n",
    "# Consumer complaint narrative - Too much catagories\n",
    "# Company public response - Catagorical\n",
    "# Company\n",
    "# State\n",
    "# ZIP code\n",
    "# Tags\n",
    "# Consumer consent provided?\n",
    "# Submitted via\n",
    "# Date sent to company\n",
    "# Company response to consumer\n",
    "# Timely response?\n",
    "# Consumer disputed?\n",
    "# Complaint ID"
   ]
  },
  {
   "cell_type": "code",
   "execution_count": 9,
   "id": "209656f1",
   "metadata": {},
   "outputs": [],
   "source": [
    "def target_mean(data,feature,target,decimal=2):\n",
    "    sns.countplot(data=data, y=feature, order = data[feature].value_counts().head(10).index,)\n",
    "    return(data.groupby(feature).agg({target: \"mean\"}).sort_values(by=[target],ascending=[False]).round(decimal))"
   ]
  },
  {
   "cell_type": "code",
   "execution_count": 10,
   "id": "a8f8f8b8",
   "metadata": {},
   "outputs": [
    {
     "data": {
      "text/html": [
       "<div>\n",
       "<style scoped>\n",
       "    .dataframe tbody tr th:only-of-type {\n",
       "        vertical-align: middle;\n",
       "    }\n",
       "\n",
       "    .dataframe tbody tr th {\n",
       "        vertical-align: top;\n",
       "    }\n",
       "\n",
       "    .dataframe thead th {\n",
       "        text-align: right;\n",
       "    }\n",
       "</style>\n",
       "<table border=\"1\" class=\"dataframe\">\n",
       "  <thead>\n",
       "    <tr style=\"text-align: right;\">\n",
       "      <th></th>\n",
       "      <th>Consumer disputed?</th>\n",
       "    </tr>\n",
       "    <tr>\n",
       "      <th>Company response to consumer</th>\n",
       "      <th></th>\n",
       "    </tr>\n",
       "  </thead>\n",
       "  <tbody>\n",
       "    <tr>\n",
       "      <th>Untimely response</th>\n",
       "      <td>1.00</td>\n",
       "    </tr>\n",
       "    <tr>\n",
       "      <th>Closed without relief</th>\n",
       "      <td>0.27</td>\n",
       "    </tr>\n",
       "    <tr>\n",
       "      <th>Closed with explanation</th>\n",
       "      <td>0.23</td>\n",
       "    </tr>\n",
       "    <tr>\n",
       "      <th>Closed</th>\n",
       "      <td>0.22</td>\n",
       "    </tr>\n",
       "    <tr>\n",
       "      <th>Closed with relief</th>\n",
       "      <td>0.13</td>\n",
       "    </tr>\n",
       "    <tr>\n",
       "      <th>Closed with non-monetary relief</th>\n",
       "      <td>0.13</td>\n",
       "    </tr>\n",
       "    <tr>\n",
       "      <th>Closed with monetary relief</th>\n",
       "      <td>0.11</td>\n",
       "    </tr>\n",
       "  </tbody>\n",
       "</table>\n",
       "</div>"
      ],
      "text/plain": [
       "                                 Consumer disputed?\n",
       "Company response to consumer                       \n",
       "Untimely response                              1.00\n",
       "Closed without relief                          0.27\n",
       "Closed with explanation                        0.23\n",
       "Closed                                         0.22\n",
       "Closed with relief                             0.13\n",
       "Closed with non-monetary relief                0.13\n",
       "Closed with monetary relief                    0.11"
      ]
     },
     "execution_count": 10,
     "metadata": {},
     "output_type": "execute_result"
    },
    {
     "data": {
      "image/png": "[encoded data removed]",
      "text/plain": [
       "<Figure size 432x288 with 1 Axes>"
      ]
     },
     "metadata": {
      "needs_background": "light"
     },
     "output_type": "display_data"
    }
   ],
   "source": [
    "target_mean(data,'Company response to consumer','Consumer disputed?')"
   ]
  },
  {
   "cell_type": "code",
   "execution_count": 11,
   "id": "dac28776",
   "metadata": {},
   "outputs": [],
   "source": [
    "data = data.apply(lambda x: x.fillna(x.mean()) if x.dtype.kind in 'biufc' else x.fillna('Un'))"
   ]
  },
  {
   "cell_type": "code",
   "execution_count": 12,
   "id": "8536214b",
   "metadata": {},
   "outputs": [
    {
     "name": "stdout",
     "output_type": "stream",
     "text": [
      "Date received : 1759 : 0\n",
      "Product : 12 : 0\n",
      "Sub-product : 48 : 0\n",
      "Issue : 95 : 0\n",
      "Sub-issue : 69 : 0\n",
      "Consumer complaint narrative : 74020 : 0\n",
      "Company public response : 11 : 0\n",
      "Company : 3276 : 0\n",
      "State : 63 : 0\n",
      "ZIP code : 25963 : 0\n",
      "Tags : 4 : 0\n",
      "Consumer consent provided? : 5 : 0\n",
      "Submitted via : 6 : 0\n",
      "Date sent to company : 1706 : 0\n",
      "Company response to consumer : 7 : 0\n",
      "Timely response? : 2 : 0\n"
     ]
    }
   ],
   "source": [
    "for col in data.select_dtypes(['object']).columns:\n",
    "    print(col,':',data[col].nunique(),':',data[col].isna().sum())"
   ]
  },
  {
   "cell_type": "code",
   "execution_count": 13,
   "id": "c8124d19",
   "metadata": {},
   "outputs": [],
   "source": [
    "# Extract Year from date columns \n",
    "data['Date received'] = pd.to_numeric(data['Date received'].str.slice(0,4))\n",
    "data['Date sent to company'] = pd.to_numeric(data['Date sent to company'].str.slice(0,4))"
   ]
  },
  {
   "cell_type": "code",
   "execution_count": 14,
   "id": "b771d6ef",
   "metadata": {},
   "outputs": [],
   "source": [
    "# Complain Length in terms of words\n",
    "data['complain_length'] = data['Consumer complaint narrative'].str.count(' ') + 1"
   ]
  },
  {
   "cell_type": "code",
   "execution_count": 15,
   "id": "9bd0ef62",
   "metadata": {},
   "outputs": [
    {
     "data": {
      "text/plain": [
       "((478421, 17), (478421,))"
      ]
     },
     "execution_count": 15,
     "metadata": {},
     "output_type": "execute_result"
    }
   ],
   "source": [
    "y_train = data['Consumer disputed?']\n",
    "x_train = data.drop('Consumer disputed?',axis=1)\n",
    "x_train.shape, y_train.shape"
   ]
  },
  {
   "cell_type": "code",
   "execution_count": 16,
   "id": "b70d17c3",
   "metadata": {},
   "outputs": [],
   "source": [
    "from sklearn.model_selection import train_test_split\n",
    "x_train1, x_train2 , y_train1, y_train2 =  train_test_split(x_train , y_train, test_size=0.25, random_state=42)"
   ]
  },
  {
   "cell_type": "code",
   "execution_count": 17,
   "id": "7034a2fc",
   "metadata": {},
   "outputs": [
    {
     "name": "stdout",
     "output_type": "stream",
     "text": [
      "Learning rate set to 0.5\n",
      "0:\tlearn: 0.5625535\ttotal: 313ms\tremaining: 15.4s\n",
      "1:\tlearn: 0.5235421\ttotal: 456ms\tremaining: 10.9s\n",
      "2:\tlearn: 0.5092033\ttotal: 595ms\tremaining: 9.32s\n",
      "3:\tlearn: 0.5040307\ttotal: 732ms\tremaining: 8.42s\n",
      "4:\tlearn: 0.5008810\ttotal: 869ms\tremaining: 7.83s\n",
      "5:\tlearn: 0.4993868\ttotal: 1.01s\tremaining: 7.39s\n",
      "6:\tlearn: 0.4984684\ttotal: 1.14s\tremaining: 7.02s\n",
      "7:\tlearn: 0.4975785\ttotal: 1.28s\tremaining: 6.7s\n",
      "8:\tlearn: 0.4970691\ttotal: 1.4s\tremaining: 6.39s\n",
      "9:\tlearn: 0.4966951\ttotal: 1.54s\tremaining: 6.17s\n",
      "10:\tlearn: 0.4940164\ttotal: 1.68s\tremaining: 5.95s\n",
      "11:\tlearn: 0.4936623\ttotal: 1.81s\tremaining: 5.73s\n",
      "12:\tlearn: 0.4933829\ttotal: 1.95s\tremaining: 5.55s\n",
      "13:\tlearn: 0.4930427\ttotal: 2.07s\tremaining: 5.33s\n",
      "14:\tlearn: 0.4929735\ttotal: 2.14s\tremaining: 4.99s\n",
      "15:\tlearn: 0.4926892\ttotal: 2.26s\tremaining: 4.8s\n",
      "16:\tlearn: 0.4925155\ttotal: 2.39s\tremaining: 4.64s\n",
      "17:\tlearn: 0.4924512\ttotal: 2.52s\tremaining: 4.49s\n",
      "18:\tlearn: 0.4923095\ttotal: 2.65s\tremaining: 4.33s\n",
      "19:\tlearn: 0.4921892\ttotal: 2.8s\tremaining: 4.2s\n",
      "20:\tlearn: 0.4920747\ttotal: 2.93s\tremaining: 4.04s\n",
      "21:\tlearn: 0.4920136\ttotal: 3.06s\tremaining: 3.9s\n",
      "22:\tlearn: 0.4918803\ttotal: 3.19s\tremaining: 3.75s\n",
      "23:\tlearn: 0.4917161\ttotal: 3.33s\tremaining: 3.6s\n",
      "24:\tlearn: 0.4916153\ttotal: 3.47s\tremaining: 3.47s\n",
      "25:\tlearn: 0.4914624\ttotal: 3.58s\tremaining: 3.31s\n",
      "26:\tlearn: 0.4912828\ttotal: 3.71s\tremaining: 3.16s\n",
      "27:\tlearn: 0.4911477\ttotal: 3.83s\tremaining: 3.01s\n",
      "28:\tlearn: 0.4910458\ttotal: 3.96s\tremaining: 2.87s\n",
      "29:\tlearn: 0.4909317\ttotal: 4.1s\tremaining: 2.73s\n",
      "30:\tlearn: 0.4907959\ttotal: 4.23s\tremaining: 2.59s\n",
      "31:\tlearn: 0.4906991\ttotal: 4.35s\tremaining: 2.45s\n",
      "32:\tlearn: 0.4906761\ttotal: 4.49s\tremaining: 2.31s\n",
      "33:\tlearn: 0.4906478\ttotal: 4.63s\tremaining: 2.18s\n",
      "34:\tlearn: 0.4904484\ttotal: 4.75s\tremaining: 2.04s\n",
      "35:\tlearn: 0.4903363\ttotal: 4.89s\tremaining: 1.9s\n",
      "36:\tlearn: 0.4901775\ttotal: 5.03s\tremaining: 1.77s\n",
      "37:\tlearn: 0.4901087\ttotal: 5.17s\tremaining: 1.63s\n",
      "38:\tlearn: 0.4895667\ttotal: 5.3s\tremaining: 1.49s\n",
      "39:\tlearn: 0.4895177\ttotal: 5.43s\tremaining: 1.36s\n",
      "40:\tlearn: 0.4894364\ttotal: 5.57s\tremaining: 1.22s\n",
      "41:\tlearn: 0.4894194\ttotal: 5.71s\tremaining: 1.09s\n",
      "42:\tlearn: 0.4893615\ttotal: 5.84s\tremaining: 952ms\n",
      "43:\tlearn: 0.4893476\ttotal: 5.98s\tremaining: 815ms\n",
      "44:\tlearn: 0.4893079\ttotal: 6.11s\tremaining: 679ms\n",
      "45:\tlearn: 0.4890611\ttotal: 6.24s\tremaining: 542ms\n",
      "46:\tlearn: 0.4889794\ttotal: 6.36s\tremaining: 406ms\n",
      "47:\tlearn: 0.4889537\ttotal: 6.49s\tremaining: 271ms\n",
      "48:\tlearn: 0.4888931\ttotal: 6.63s\tremaining: 135ms\n",
      "49:\tlearn: 0.4887755\ttotal: 6.76s\tremaining: 0us\n"
     ]
    }
   ],
   "source": [
    "from catboost import CatBoostClassifier, Pool\n",
    "categorical_features =  np.where(x_train.dtypes == object )[0]\n",
    "\n",
    "model = CatBoostClassifier(iterations=50)\n",
    "model.fit(x_train1, y_train1, cat_features=categorical_features)\n",
    "test_pred = model.predict_proba(x_train2)\n",
    "\n",
    "feature_importance = model.feature_importances_\n",
    "sorted_idx = np.argsort(feature_importance)[-20:]"
   ]
  },
  {
   "cell_type": "code",
   "execution_count": 18,
   "id": "f4ad08fb",
   "metadata": {},
   "outputs": [
    {
     "data": {
      "text/plain": [
       "0.6535880186694348"
      ]
     },
     "execution_count": 18,
     "metadata": {},
     "output_type": "execute_result"
    }
   ],
   "source": [
    "from sklearn.metrics import roc_auc_score\n",
    "roc_auc_score(y_train2,test_pred[:,1])"
   ]
  },
  {
   "cell_type": "code",
   "execution_count": 21,
   "id": "942e3213",
   "metadata": {},
   "outputs": [
    {
     "data": {
      "text/plain": [
       "Text(0.5, 1.0, 'Feature Importance')"
      ]
     },
     "execution_count": 21,
     "metadata": {},
     "output_type": "execute_result"
    },
    {
     "data": {
      "image/png": "[encoded data removed]",
      "text/plain": [
       "<Figure size 864x432 with 1 Axes>"
      ]
     },
     "metadata": {
      "needs_background": "light"
     },
     "output_type": "display_data"
    }
   ],
   "source": [
    "import matplotlib.pyplot as plt\n",
    "fig = plt.figure(figsize=(12, 6))\n",
    "plt.barh(range(len(sorted_idx)), feature_importance[sorted_idx], align='center')\n",
    "plt.yticks(range(len(sorted_idx)), np.array(x_train2.columns)[sorted_idx])\n",
    "plt.title('Feature Importance')"
   ]
  },
  {
   "cell_type": "code",
   "execution_count": null,
   "id": "58a587ec",
   "metadata": {},
   "outputs": [],
   "source": []
  }
 ],
 "metadata": {
  "kernelspec": {
   "display_name": "Python 3 (ipykernel)",
   "language": "python",
   "name": "python3"
  },
  "language_info": {
   "codemirror_mode": {
    "name": "ipython",
    "version": 3
   },
   "file_extension": ".py",
   "mimetype": "text/x-python",
   "name": "python",
   "nbconvert_exporter": "python",
   "pygments_lexer": "ipython3",
   "version": "3.9.7"
  }
 },
 "nbformat": 4,
 "nbformat_minor": 5
}
