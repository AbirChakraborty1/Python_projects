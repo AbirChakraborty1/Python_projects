{
 "cells": [
  {
   "cell_type": "markdown",
   "id": "e3603a2a",
   "metadata": {},
   "source": [
    "# Analytics Vidya - Football Hackathon\n",
    "## by ABIR CHAKRABORTY ( mail2abirchakraborty@gmail.com)\n"
   ]
  },
  {
   "cell_type": "markdown",
   "id": "dc12d74b",
   "metadata": {},
   "source": [
    "### I have performed the Data exploring and analysis part in R - Studio some key findings i got from there was -\n",
    "1. The Ratings are not uniformly distributed it needed to take care to prevent biasness towards higher score.\n",
    "2. There are plenty of Null  and Zero columns which needs to be removed.\n",
    "3. There are plenty of highly corelated columns  which needs to be removed.\n",
    "4. The outliers of the numeric column should be treated."
   ]
  },
  {
   "cell_type": "markdown",
   "id": "bb49f554",
   "metadata": {},
   "source": [
    "### The Entire solution is divided in following parts\n",
    "1. Building the first model by Catboost without encoding of the catagorical variables.\n",
    "2. Building the second model by LGBM with encoding of the catagorical variables.\n",
    "3. Take the average of the both result as they are expected to find patterns in different way.\n",
    "4. Treatment of biasness towards highers ratings which is mainly due to presence of higher frequency of rating 10."
   ]
  },
  {
   "cell_type": "code",
   "execution_count": 1,
   "id": "70dd2d82",
   "metadata": {},
   "outputs": [],
   "source": [
    "# Load the datasets\n",
    "\n",
    "import pandas as pd\n",
    "import numpy as np\n",
    "import math as m\n",
    "\n",
    "train = pd.read_csv(\"C:\\\\Users\\\\chakr\\\\Downloads\\\\train_1K0BDt5\\\\train.csv\")\n",
    "test = pd.read_csv(\"C:\\\\Users\\\\chakr\\\\Downloads\\\\test_kuhCxHY\\\\test.csv\")\n",
    "ss = pd.read_csv(\"C:\\\\Users\\\\chakr\\\\Downloads\\\\sample_submission_wBWLI0s.csv\")"
   ]
  },
  {
   "cell_type": "code",
   "execution_count": 2,
   "id": "4f5cfa26",
   "metadata": {},
   "outputs": [],
   "source": [
    "x_train = train.drop(['rating_num'], axis = 1)\n",
    "x_test = test.copy()"
   ]
  },
  {
   "cell_type": "code",
   "execution_count": 3,
   "id": "bde70295",
   "metadata": {},
   "outputs": [],
   "source": [
    "# Replace winner,draw, loser with 1,0,-1 in winner column\n",
    "# Replace team1 with 1 and team2 with zero in team column.\n",
    "\n",
    "x_train['team'] = np.where(x_train['team']!= 'team1', 1, 0)\n",
    "x_train['winner'] = np.where(x_train['winner']== 'winner', 1, np.where(x_train['winner']== 'loser', -1,0 ))\n",
    "\n",
    "x_test['team'] = np.where(x_test['team']!= 'team1', 1, 0)\n",
    "x_test['winner'] = np.where(x_test['winner']== 'winner', 1, np.where(x_test['winner']== 'loser', -1,0 ))"
   ]
  },
  {
   "cell_type": "code",
   "execution_count": 4,
   "id": "dacb0c93",
   "metadata": {},
   "outputs": [],
   "source": [
    "def remove_outliers(data):\n",
    "    for col in data:\n",
    "        high = data[col].mean() + 3*data[col].std()\n",
    "        low = data[col].mean() - 3*data[col].std()\n",
    "        data[col] = np.where(\n",
    "            data[col] > high,\n",
    "            high,\n",
    "            np.where(\n",
    "                data[col] < low,\n",
    "                low,\n",
    "                data[col]))\n",
    "        \n",
    "remove_outliers(x_train)\n",
    "remove_outliers(x_test)"
   ]
  },
  {
   "cell_type": "code",
   "execution_count": 5,
   "id": "2e231e21",
   "metadata": {},
   "outputs": [],
   "source": [
    "y_train = train['rating_num']"
   ]
  },
  {
   "cell_type": "code",
   "execution_count": 6,
   "id": "0f92bc35",
   "metadata": {},
   "outputs": [],
   "source": [
    "# Drop the row_id\n",
    "all = pd.concat([x_train,x_test])\n",
    "all = all.drop(['row_id'], axis = 1)"
   ]
  },
  {
   "cell_type": "code",
   "execution_count": 7,
   "id": "eee8311f",
   "metadata": {},
   "outputs": [],
   "source": [
    "drop_cols = [\n",
    "    'team2_other_raw_var_19','team1_other_raw_var_50','team1_other_raw_var_72','team1_other_raw_var_19',\n",
    "    'team1_other_raw_var_31','team1_other_raw_var_33','team1_other_raw_var_92','team1_other_raw_var_82',\n",
    "    'team2_other_raw_var_72','team1_other_raw_var_38','team1_other_raw_var_40','team1_other_raw_var_43',\n",
    "    'team2_other_raw_var_92','team1_other_ratio_var_33','team1_other_ratio_var_32','team2_other_raw_var_82',\n",
    "    'team2_other_raw_var_51','team2_other_raw_var_50','team2_other_raw_var_31','team1_other_raw_var_51',\n",
    "    'team2_other_ratio_var_32','team2_other_raw_var_33','team2_other_ratio_var_33','team2_other_raw_var_38',\n",
    "    'team2_other_raw_var_40','team2_other_raw_var_43','player_other_ratio_var_26','player_other_ratio_var_27',\n",
    "    'player_other_ratio_var_24','player_other_ratio_var_28','player_other_ratio_var_25','player_other_ratio_var_23',\n",
    "    'player_positional_ratio_var_79','player_other_ratio_var_37','player_defensive_ratio_var_38','player_defensive_ratio_var_39',\n",
    "    'player_offensive_ratio_var_70','player_offensive_ratio_var_68','player_offensive_ratio_var_69','player_other_ratio_var_67',\n",
    "    'player_other_ratio_var_73','player_offensive_ratio_var_77','player_other_ratio_var_36','player_defensive_ratio_var_16',\n",
    "    'player_other_ratio_var_14','player_other_ratio_var_32','player_other_ratio_var_34','player_other_ratio_var_33',\n",
    "    'player_offensive_ratio_var_72','player_positional_ratio_var_22','player_offensive_ratio_var_78','player_offensive_ratio_var_13',\n",
    "    'player_other_ratio_var_66','player_offensive_ratio_var_40', 'player_other_ratio_var_7',]\n",
    "all.drop(drop_cols, axis = 1, inplace = True)"
   ]
  },
  {
   "cell_type": "code",
   "execution_count": 8,
   "id": "9052b4da",
   "metadata": {},
   "outputs": [
    {
     "data": {
      "text/plain": [
       "(0, 743)"
      ]
     },
     "execution_count": 8,
     "metadata": {},
     "output_type": "execute_result"
    }
   ],
   "source": [
    "cateogry_columns=all.select_dtypes(include=['object']).columns.tolist()\n",
    "integer_columns=all.select_dtypes(include=['int64','float64']).columns.tolist()\n",
    "len(cateogry_columns),len(integer_columns)"
   ]
  },
  {
   "cell_type": "code",
   "execution_count": 9,
   "id": "46010dd1",
   "metadata": {},
   "outputs": [],
   "source": [
    "# Replace the NUll values with mean\n",
    "all = all.apply(lambda x: x.fillna(x.mean()) if x.dtype.kind in 'biufc' else x.fillna(x.mode()))"
   ]
  },
  {
   "cell_type": "code",
   "execution_count": 10,
   "id": "c12bf62e",
   "metadata": {},
   "outputs": [],
   "source": [
    "# Change the datatype of charecter columns as charecter.\n",
    "all['scout_id'] = all['scout_id'].astype(str)\n",
    "all['team1_system_id'] = all['team1_system_id'].astype(str)\n",
    "all['team2_system_id'] = all['team2_system_id'].astype(str)\n",
    "all['competitionId'] = all['competitionId'].astype(str)\n",
    "all['player_position_1'] = all['player_position_1'].astype(str)\n",
    "all['player_position_2'] = all['player_position_2'].astype(str)"
   ]
  },
  {
   "cell_type": "code",
   "execution_count": 11,
   "id": "06eabd51",
   "metadata": {},
   "outputs": [
    {
     "data": {
      "text/plain": [
       "['scout_id',\n",
       " 'competitionId',\n",
       " 'player_position_1',\n",
       " 'player_position_2',\n",
       " 'team1_system_id',\n",
       " 'team2_system_id']"
      ]
     },
     "execution_count": 11,
     "metadata": {},
     "output_type": "execute_result"
    }
   ],
   "source": [
    "cateogry_columns=all.select_dtypes(include=['object']).columns.tolist()\n",
    "cateogry_columns"
   ]
  },
  {
   "cell_type": "code",
   "execution_count": 12,
   "id": "411bb3d7",
   "metadata": {},
   "outputs": [],
   "source": [
    "# For next part - Encoded the catagorical columns\n",
    "all2 = pd.get_dummies(all, drop_first=False)"
   ]
  },
  {
   "cell_type": "code",
   "execution_count": 13,
   "id": "dbbcc9b8",
   "metadata": {},
   "outputs": [
    {
     "data": {
      "text/plain": [
       "((20453, 743), (8774, 743))"
      ]
     },
     "execution_count": 13,
     "metadata": {},
     "output_type": "execute_result"
    }
   ],
   "source": [
    "x_train = all.iloc[0:20453,:]\n",
    "x_test = all.iloc[20453:,:]\n",
    "\n",
    "x_train.shape , x_test.shape"
   ]
  },
  {
   "cell_type": "code",
   "execution_count": 14,
   "id": "5e7f7c04",
   "metadata": {},
   "outputs": [],
   "source": [
    "from sklearn.metrics import mean_absolute_percentage_error\n",
    "from sklearn.metrics import mean_squared_error\n",
    "from sklearn.metrics import r2_score"
   ]
  },
  {
   "cell_type": "code",
   "execution_count": 15,
   "id": "65784c14",
   "metadata": {},
   "outputs": [
    {
     "name": "stderr",
     "output_type": "stream",
     "text": [
      "C:\\Users\\chakr\\anaconda3\\lib\\site-packages\\pandas\\core\\frame.py:4906: SettingWithCopyWarning: \n",
      "A value is trying to be set on a copy of a slice from a DataFrame\n",
      "\n",
      "See the caveats in the documentation: https://pandas.pydata.org/pandas-docs/stable/user_guide/indexing.html#returning-a-view-versus-a-copy\n",
      "  return super().drop(\n"
     ]
    }
   ],
   "source": [
    "# Drop few more poorly performing columns.\n",
    "\n",
    "drop_cols = [\n",
    "    'player_weight','player_offensive_derived_var_24',\n",
    " 'player_offensive_derived_var_25',\n",
    " 'player_other_derived_var_42',\n",
    " 'player_offensive_derived_var_55',\n",
    " 'player_offensive_derived_var_56',\n",
    " 'player_positional_derived_var_64',\n",
    " 'player_other_derived_var_76',\n",
    " 'player_offensive_derived_var_89',\n",
    " 'player_offensive_derived_var_90',\n",
    " 'player_positional_derived_var_100',\n",
    " 'player_other_derived_var_115',\n",
    " 'player_offensive_derived_var_128',\n",
    " 'player_positional_derived_var_136',\n",
    " 'player_other_raw_var_142',\n",
    " 'player_other_raw_var_184',\n",
    " 'player_offensive_derived_var_153',\n",
    " 'player_offensive_derived_var_151']\n",
    "\n",
    "x_train.drop(drop_cols, axis = 1, inplace = True)\n",
    "x_test.drop(drop_cols, axis = 1, inplace = True)\n"
   ]
  },
  {
   "cell_type": "markdown",
   "id": "8c2711d4",
   "metadata": {},
   "source": [
    "# 1st Model -  Catboost without encoding of catagorical variables."
   ]
  },
  {
   "cell_type": "code",
   "execution_count": null,
   "id": "c9733cae",
   "metadata": {},
   "outputs": [],
   "source": [
    "from catboost import CatBoostRegressor, Pool\n",
    "categorical_features =  np.where(x_train.dtypes == object )[0]\n",
    "\n",
    "model = CatBoostRegressor(iterations=5000)\n",
    "model.fit(x_train, y_train, cat_features=categorical_features)\n",
    "test_pred = model.predict(x_test)\n",
    "\n",
    "ss['rating_num'] = test_pred\n",
    "#ss.to_csv('football2.csv',index=False)\n",
    "\n",
    "feature_importance = model.feature_importances_\n",
    "sorted_idx = np.argsort(feature_importance)[-20:]\n"
   ]
  },
  {
   "cell_type": "markdown",
   "id": "0e01e3da",
   "metadata": {},
   "source": [
    "# Feature Importance Plot"
   ]
  },
  {
   "cell_type": "code",
   "execution_count": 18,
   "id": "7aa2a2da",
   "metadata": {},
   "outputs": [
    {
     "data": {
      "text/plain": [
       "Text(0.5, 1.0, 'Feature Importance')"
      ]
     },
     "execution_count": 18,
     "metadata": {},
     "output_type": "execute_result"
    },
    {
     "data": {
      "image/png": "[encoded data removed]",
      "text/plain": [
       "<Figure size 864x432 with 1 Axes>"
      ]
     },
     "metadata": {
      "needs_background": "light"
     },
     "output_type": "display_data"
    }
   ],
   "source": [
    "import matplotlib.pyplot as plt\n",
    "fig = plt.figure(figsize=(12, 6))\n",
    "plt.barh(range(len(sorted_idx)), feature_importance[sorted_idx], align='center')\n",
    "plt.yticks(range(len(sorted_idx)), np.array(x_test.columns)[sorted_idx])\n",
    "plt.title('Feature Importance')"
   ]
  },
  {
   "cell_type": "code",
   "execution_count": 19,
   "id": "edee28cc",
   "metadata": {},
   "outputs": [
    {
     "data": {
      "text/plain": [
       "(2.0430309026795967, 9.911779202170134, 6.478576922855297)"
      ]
     },
     "execution_count": 19,
     "metadata": {},
     "output_type": "execute_result"
    }
   ],
   "source": [
    "min(test_pred),max(test_pred),test_pred.mean()"
   ]
  },
  {
   "cell_type": "markdown",
   "id": "76063023",
   "metadata": {},
   "source": [
    "# 2nd Model -  LGBM with encoding of catagorical variables."
   ]
  },
  {
   "cell_type": "code",
   "execution_count": 20,
   "id": "abbdea9e",
   "metadata": {},
   "outputs": [
    {
     "data": {
      "text/plain": [
       "((20453, 867), (8774, 867))"
      ]
     },
     "execution_count": 20,
     "metadata": {},
     "output_type": "execute_result"
    }
   ],
   "source": [
    "x_train = all2.iloc[0:20453,:]\n",
    "x_test = all2.iloc[20453:,:]\n",
    "\n",
    "x_train.shape , x_test.shape"
   ]
  },
  {
   "cell_type": "code",
   "execution_count": 21,
   "id": "bce5af8d",
   "metadata": {},
   "outputs": [],
   "source": [
    "# This is my custom function for LGBM , i used it to get the best parameters\n",
    "\n",
    "def lgbm_reg(x_train,y_train,x_test,n=10,cv=10,\n",
    "                learning_rate=[0.01,0.05,0.1,0.3,0.5],\n",
    "                max_depth= [2,4,6,8,10,12],\n",
    "                num_leaves= [25,50,100,200],\n",
    "                reg_lambda=[0.8], \n",
    "                reg_alpha=[0.8],\n",
    "                n_estimators=[50,100,200,500,1000],\n",
    "                subsample_freq=[1,2,3,4]):\n",
    "\n",
    "    from sklearn.model_selection import RandomizedSearchCV\n",
    "\n",
    "    import warnings\n",
    "\n",
    "    import lightgbm as lgbm\n",
    "\n",
    "    warnings.filterwarnings('ignore')\n",
    "\n",
    "    from sklearn.pipeline import Pipeline,FeatureUnion\n",
    "    from sklearn.base import BaseEstimator, TransformerMixin\n",
    "    \n",
    "    def report(results, n_top=3):\n",
    "        for i in range(1, n_top + 1):\n",
    "            candidates = np.flatnonzero(results['rank_test_score'] == i)\n",
    "            for candidate in candidates:\n",
    "                print(\"Model with rank: {0}\".format(i))\n",
    "                print(\"Mean validation score: {0:.3f} (std: {1:.5f})\".format(\n",
    "                      results['mean_test_score'][candidate],\n",
    "                      results['std_test_score'][candidate]))\n",
    "                print(\"Parameters: {0}\".format(results['params'][candidate]))\n",
    "                print(\"\")    \n",
    "    \n",
    "    \n",
    "    lgbm_params = {  \n",
    "                \"learning_rate\":learning_rate,\n",
    "                \"max_depth\":max_depth,\n",
    "                \"num_leaves\":num_leaves,\n",
    "                \"n_estimators\":n_estimators,\n",
    "                \"reg_lambda\":reg_lambda,\n",
    "                \"reg_alpha\":reg_alpha,\n",
    "                \"subsample_freq\":subsample_freq,\n",
    "                #\"metric\":'rmse'\n",
    "             }\n",
    "    \n",
    "    \n",
    "    lgbm=lgbm.LGBMRegressor()\n",
    "    n_iter=n\n",
    "\n",
    "    random_search=RandomizedSearchCV(lgbm,n_jobs=-1,cv=cv,n_iter=n,scoring='r2',\n",
    "                                 param_distributions=lgbm_params)\n",
    "    random_search.fit(x_train,y_train)\n",
    "    report(random_search.cv_results_,5)\n",
    "    test_pred= random_search.predict(x_test)\n",
    "    test_pred=test_pred.reshape(len(test_pred),1)\n",
    "    return(test_pred)    "
   ]
  },
  {
   "cell_type": "code",
   "execution_count": 22,
   "id": "8d302cff",
   "metadata": {},
   "outputs": [
    {
     "name": "stdout",
     "output_type": "stream",
     "text": [
      "Model with rank: 1\n",
      "Mean validation score: 0.219 (std: 0.05355)\n",
      "Parameters: {'subsample_freq': 2, 'reg_lambda': 0.8, 'reg_alpha': 0.8, 'num_leaves': 100, 'n_estimators': 1000, 'max_depth': 8, 'learning_rate': 0.05}\n",
      "\n",
      "--- 261.9574954509735 seconds ---\n"
     ]
    }
   ],
   "source": [
    "# Replace with best parameters combination and predict \n",
    "import time\n",
    "start_time = time.time()\n",
    "lgbm_pred = lgbm_reg(x_train,y_train,\n",
    "                    x_test,cv=3,n=1,\n",
    "                   n_estimators=[1000],learning_rate=[0.05],\n",
    "                   subsample_freq=[2],num_leaves=[100],\n",
    "                     max_depth=[8],\n",
    "                    )\n",
    "\n",
    "ss['rating_num'] = lgbm_pred\n",
    "#ss.to_csv('football2.csv',index=False)\n",
    "print(\"--- %s seconds ---\" % (time.time() - start_time))\n"
   ]
  },
  {
   "cell_type": "code",
   "execution_count": 23,
   "id": "b88ec4f1",
   "metadata": {},
   "outputs": [
    {
     "data": {
      "text/plain": [
       "(array([0.62771653]), array([10.1503993]), 6.449695671150239)"
      ]
     },
     "execution_count": 23,
     "metadata": {},
     "output_type": "execute_result"
    }
   ],
   "source": [
    "min(lgbm_pred),max(lgbm_pred),lgbm_pred.mean()"
   ]
  },
  {
   "cell_type": "code",
   "execution_count": 24,
   "id": "53787d77",
   "metadata": {},
   "outputs": [
    {
     "data": {
      "text/plain": [
       "(array([0.62771653]), array([10.]), 6.449678529674857)"
      ]
     },
     "execution_count": 24,
     "metadata": {},
     "output_type": "execute_result"
    }
   ],
   "source": [
    "lgbm_pred[lgbm_pred>10]=10\n",
    "min(lgbm_pred),max(lgbm_pred),lgbm_pred.mean()"
   ]
  },
  {
   "cell_type": "markdown",
   "id": "d2f4af58",
   "metadata": {},
   "source": [
    "# Take average of both the models"
   ]
  },
  {
   "cell_type": "code",
   "execution_count": 25,
   "id": "107bceb5",
   "metadata": {},
   "outputs": [
    {
     "data": {
      "text/plain": [
       "(1.428729040656038, 9.649668014365968, 6.4641277262650805)"
      ]
     },
     "execution_count": 25,
     "metadata": {},
     "output_type": "execute_result"
    }
   ],
   "source": [
    "ss['rating_num'] = test_pred.reshape(8774,1)*0.5 + lgbm_pred*0.5\n",
    "min(ss['rating_num']),max(ss['rating_num']),ss['rating_num'].mean()"
   ]
  },
  {
   "cell_type": "markdown",
   "id": "dd431562",
   "metadata": {},
   "source": [
    "# Explore Rating Distributions"
   ]
  },
  {
   "cell_type": "code",
   "execution_count": 26,
   "id": "f545ae7d",
   "metadata": {},
   "outputs": [
    {
     "data": {
      "image/png": "[encoded data removed]",
      "text/plain": [
       "<Figure size 432x288 with 1 Axes>"
      ]
     },
     "metadata": {
      "needs_background": "light"
     },
     "output_type": "display_data"
    },
    {
     "data": {
      "text/plain": [
       "6.0     3654\n",
       "6.5     3247\n",
       "7.5     3206\n",
       "10.0    2442\n",
       "5.0     2244\n",
       "7.0     1248\n",
       "3.5     1077\n",
       "8.5     1062\n",
       "9.0     1023\n",
       "8.0      873\n",
       "0.0      218\n",
       "3.0      110\n",
       "2.0       49\n",
       "Name: rating_num, dtype: int64"
      ]
     },
     "execution_count": 26,
     "metadata": {},
     "output_type": "execute_result"
    }
   ],
   "source": [
    "import pandas as pd\n",
    "import seaborn as sns\n",
    "import matplotlib.pyplot as plt\n",
    "train = pd.read_csv(\"C:\\\\Users\\\\chakr\\\\Downloads\\\\train_1K0BDt5\\\\train.csv\")\n",
    "\n",
    "train.rating_num.plot.density(color='green')\n",
    "plt.title('Density plot for Speeding')\n",
    "plt.show()\n",
    "\n",
    "train['rating_num'].value_counts()"
   ]
  },
  {
   "cell_type": "markdown",
   "id": "bba8c897",
   "metadata": {},
   "source": [
    "####  Even after taking the average of both the models the minimum is still 1.42 , which should be closer to zero. I tried with dropping few rows of training data with Rating 10 and got better score. which proves that the result is getting baised towards higher rating. Eventually i found the below method to reduce that biasness. I started with -1.4 ( minimum of my prediction was -1.42) and gradually changed it with different section. Rating between 5 to 7.5 are treated more finely due to presence of higher number of predictions. Just like parameter tuning had to perform plenty of trial and errors to get what is working best."
   ]
  },
  {
   "cell_type": "code",
   "execution_count": 27,
   "id": "3b1c6a01",
   "metadata": {},
   "outputs": [],
   "source": [
    "ss['rating_num'] = (test_pred.reshape(8774,1)*0.5 + lgbm_pred*0.5)\n",
    "ss['rating_num'][ss['rating_num']<2]= ss['rating_num'] -1.4\n",
    "ss['rating_num'][(ss['rating_num']<4) & (ss['rating_num']>=2)]= ss['rating_num']-1.3\n",
    "ss['rating_num'][(ss['rating_num']<5) & (ss['rating_num']>=4)]= ss['rating_num']-1\n",
    "ss['rating_num'][(ss['rating_num']<5.25) & (ss['rating_num']>=5)]= ss['rating_num']-0.85\n",
    "ss['rating_num'][(ss['rating_num']<5.5) & (ss['rating_num']>=5.25)]= ss['rating_num']-0.67\n",
    "ss['rating_num'][(ss['rating_num']<5.75) & (ss['rating_num']>=5.5)]= ss['rating_num']-0.55\n",
    "ss['rating_num'][(ss['rating_num']<6) & (ss['rating_num']>=5.75)]= ss['rating_num']-0.42\n",
    "ss['rating_num'][(ss['rating_num']<6.25) & (ss['rating_num']>=6)]= ss['rating_num']-0.41\n",
    "ss['rating_num'][(ss['rating_num']<6.5) & (ss['rating_num']>=6.25)]= ss['rating_num']-0.52\n",
    "ss['rating_num'][(ss['rating_num']<6.75) & (ss['rating_num']>=6.5)]= ss['rating_num']-0.46\n",
    "ss['rating_num'][(ss['rating_num']<7) & (ss['rating_num']>=6.75)]= ss['rating_num']-0.36\n",
    "ss['rating_num'][(ss['rating_num']<7.25) & (ss['rating_num']>=7)]= ss['rating_num']-0.40\n",
    "ss['rating_num'][(ss['rating_num']<7.5) & (ss['rating_num']>=7.25)]= ss['rating_num']-0.54\n",
    "ss['rating_num'][(ss['rating_num']<8) & (ss['rating_num']>=7.5)]= ss['rating_num']-0.15\n",
    "ss['rating_num'][(ss['rating_num']<8.5) & (ss['rating_num']>=8)]= ss['rating_num']-0.10\n",
    "ss['rating_num'][(ss['rating_num']<9) & (ss['rating_num']>=8.5)]= ss['rating_num']-0.20\n",
    "ss['rating_num'][(ss['rating_num']<11) & (ss['rating_num']>=9)]= ss['rating_num']-0.12\n"
   ]
  },
  {
   "cell_type": "code",
   "execution_count": 28,
   "id": "3dc35ed1",
   "metadata": {},
   "outputs": [],
   "source": [
    "ss.to_csv('football2.csv',index=False)"
   ]
  }
 ],
 "metadata": {
  "kernelspec": {
   "display_name": "Python 3 (ipykernel)",
   "language": "python",
   "name": "python3"
  },
  "language_info": {
   "codemirror_mode": {
    "name": "ipython",
    "version": 3
   },
   "file_extension": ".py",
   "mimetype": "text/x-python",
   "name": "python",
   "nbconvert_exporter": "python",
   "pygments_lexer": "ipython3",
   "version": "3.9.7"
  }
 },
 "nbformat": 4,
 "nbformat_minor": 5
}
